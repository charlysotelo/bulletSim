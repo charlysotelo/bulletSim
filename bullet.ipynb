{
 "cells": [
  {
   "cell_type": "markdown",
   "id": "aacd92be-7bb9-4612-bd69-cd537e751df5",
   "metadata": {
    "tags": []
   },
   "source": [
    "# A projectile is shot horizontally at 1000 mph from the coordinates 0° N, 0° E pointed at north, 120000 ft above the surface. At what coordinates will hit the surface?\n",
    "## assumptions:\n",
    "- no air resistance\n",
    "- earth is a perfect sphere with radius 3959 mi\n",
    "- earth's rotation is exactly 1/24h\n",
    "- gravitational acceleration is 9.81 m/s² at the surface\n",
    "- the mass and size of the projectile are negligible"
   ]
  },
  {
   "cell_type": "code",
   "execution_count": 1,
   "id": "32fcf0b6-b555-408d-9fa4-412df2f8d242",
   "metadata": {
    "tags": []
   },
   "outputs": [
    {
     "name": "stdout",
     "output_type": "stream",
     "text": [
      "gcs_to_spherical (0, 0)\n",
      "gcs_to_spherical 6407953.06 1.5707963267948966 0.0\n",
      "Initial position: (6407953.06, 1.5707963267948966, 0.0)\n"
     ]
    }
   ],
   "source": [
    "import math\n",
    "\n",
    "import ipywidgets as widgets\n",
    "from mpl_toolkits import mplot3d\n",
    "import numpy as np\n",
    "%matplotlib widget\n",
    "import matplotlib.pyplot as plt\n",
    "import scipy.ndimage\n",
    "\n",
    "def degrees_to_radians(d):\n",
    "    return d * math.pi / 180\n",
    "\n",
    "def radians_to_degress(rad):\n",
    "    return rad * 180 / math.pi\n",
    "\n",
    "class PositionCartesian:\n",
    "    def __init__(self, x, y, z):\n",
    "        self.x = x\n",
    "        self.y = y\n",
    "        self.z = z\n",
    "\n",
    "class PositionSpherical:\n",
    "    def __init__(self, r, θ, φ, time=0):\n",
    "        self.r = r\n",
    "        self.θ = θ\n",
    "        self.φ = φ\n",
    "        self.time = time\n",
    "        \n",
    "    def cartesian(self):\n",
    "        return PositionCartesian(self.r * math.sin(self.θ) * math.cos(self.φ), self.r * math.sin(self.θ) * math.sin(self.φ),  self.r * math.cos(self.θ))\n",
    "        \n",
    "    def __str__(self):\n",
    "        return f'({self.r}, {self.θ}, {self.φ})'\n",
    "    \n",
    "    def earth_fixed_pos(self):\n",
    "        '''\n",
    "        Returns an earth-fixed position assuming self is space-fixed\n",
    "        '''\n",
    "        total_angle = self.time * earth_angular_velocity_rps # Total radians earth rotated under bullet\n",
    "        return PositionSpherical(self.r, self.θ, self.φ - total_angle, time=self.time)\n",
    "    \n",
    "    def gcs(self):\n",
    "        '''\n",
    "        Assuming the Positon is earth-fixed, returns the GSC-style coordinates\n",
    "        '''\n",
    "        ϕ = 90 - radians_to_degress(self.θ)\n",
    "        λ = radians_to_degress(self.φ)\n",
    "        return f'Latitude {ϕ}, Longitude {λ}'\n",
    "    \n",
    "    def google_maps_pin(self):\n",
    "        ϕ = 90 - radians_to_degress(self.θ)\n",
    "        λ = radians_to_degress(self.φ)\n",
    "        return f'google.com/maps/search/{ϕ},+{λ}'\n",
    "\n",
    "class Velocity:\n",
    "    def __init__(self, r, θ, φ):\n",
    "        self.r = r\n",
    "        self.θ = θ\n",
    "        self.φ = φ\n",
    "\n",
    "def spherical_to_gcs(spherical_coordinates):\n",
    "    '''\n",
    "    Accepts spherical coordinates and projects them down to the surface of the earth to produce GCS coordinates\n",
    "    '''\n",
    "    λ = 90 - radians_to_degress(spherical_coordinates[1]) # latitude\n",
    "    ϕ = radians_to_degress(spherical_coordinates[2]) # longitude\n",
    "    return (λ, ϕ)\n",
    "\n",
    "def gcs_to_spherical(gcs, h_offset_meters=0):\n",
    "    '''\n",
    "    Accepts GCS coordinates and turns them into spherical coordinates where the radius is just the radius of earth\n",
    "    '''\n",
    "    print(f'gcs_to_spherical {gcs}')\n",
    "    r = earth_radius_meters + h_offset_meters\n",
    "    θ = degrees_to_radians(90 - gcs[0]) # polar angle\n",
    "    φ = degrees_to_radians(gcs[1]) # azimuthal angle\n",
    "    print(f'gcs_to_spherical {r} {θ} {φ}')\n",
    "    return PositionSpherical(r, θ, φ)\n",
    "\n",
    "# Initialize conversion constants\n",
    "meters_per_mile = 1609.34\n",
    "meters_per_foot = 0.3048\n",
    "seconds_per_hour = 3600\n",
    "hours_per_second = 1/seconds_per_hour\n",
    "\n",
    "# Initialize physical constants\n",
    "earth_radius_miles = 3959\n",
    "earth_radius_meters = earth_radius_miles * meters_per_mile\n",
    "earth_rotation_period_hours = 24\n",
    "earth_rotation_period_seconds = earth_rotation_period_hours * seconds_per_hour\n",
    "earth_angular_velocity_rps = 2*math.pi/earth_rotation_period_seconds # radians per second\n",
    "earth_mass_kg = 5.97219 * 10**(24)\n",
    "G = 6.6743 * 10**(-11) # N*m^2/kg^2\n",
    "g = 9.81\n",
    "\n",
    "# Initialize problem-specific constants\n",
    "bullet_initial_h_feet = 120000\n",
    "#bullet_initial_h_feet = 120000 * 10\n",
    "\n",
    "bullet_initial_h_meters = bullet_initial_h_feet * meters_per_foot\n",
    "bullet_initial_r_meters = bullet_initial_h_meters + earth_radius_meters\n",
    "#bullet_firing_speed_mph = 100000 # miles per hour\n",
    "bullet_firing_speed_mph = 1000 # miles per hour\n",
    "#bullet_firing_speed_mph = 0\n",
    "\n",
    "bullet_firing_speed_mps = bullet_firing_speed_mph * meters_per_mile * hours_per_second\n",
    "bullet_initial_horizontal_speed_mps = bullet_initial_r_meters * earth_angular_velocity_rps\n",
    "#bullet_initial_horizontal_speed_mps = 0\n",
    "#bullet_initial_velocity_mps = (bullet_firing_speed_mps,-bullet_initial_horizontal_speed_mps,0) # TODO: According to Kosho, the bullet has an initial radial velocity\n",
    "bullet_initial_coordinates_gcs = (0, 0) # do -X for South or West, e.g. (-90, -45) for 90 S, 45 W\n",
    "bullet_pos = gcs_to_spherical(bullet_initial_coordinates_gcs, bullet_initial_h_meters)\n",
    "\n",
    "# This deserves special mention:\n",
    "# The length of the spherical coordinate basis vectors depend on position:\n",
    "# The radial unit vector (r̂) length does not depend on position\n",
    "# The polar unit vector (θ̂) length is equal to r\n",
    "# The azimuthal unit vector (ϕ̂) length is equal to r * sin(θ)\n",
    "#\n",
    "# Therefore to properly set velocity in spherical coordinates we must scale by the unit vector lengths at that position\n",
    "bullet_vel = Velocity(0, \n",
    "                      -bullet_firing_speed_mps / bullet_pos.r,\n",
    "                      bullet_initial_horizontal_speed_mps / (bullet_pos.r * math.sin(bullet_pos.θ)))\n",
    "\n",
    "# Initialize simulation parameters\n",
    "Δt = 0.1 # timestep in seconds\n",
    "\n",
    "# Pre-process earth texture and UV-XYZ coordinates\n",
    "img = plt.imread('Equirectangular_projection_SW.jpg')\n",
    "img = scipy.ndimage.rotate(img, 90)\n",
    "img = scipy.ndimage.zoom(img, (1/8, 1/8, 1))\n",
    "img = img / 255.0\n",
    "#u = -np.linspace(-np.pi/2.0, 2 * np.pi - np.pi/2.0, img.shape[0])\n",
    "u = -np.linspace(np.pi, 2 * np.pi + np.pi, img.shape[0])\n",
    "\n",
    "v = np.linspace(0, np.pi, img.shape[1])\n",
    "sphere_x = earth_radius_meters * np.outer(np.cos(u), np.sin(v))\n",
    "sphere_y = earth_radius_meters * np.outer(np.sin(u), np.sin(v))\n",
    "sphere_z = earth_radius_meters * np.outer(np.ones(np.size(u)), np.cos(v))\n",
    "       \n",
    "class Bullet:\n",
    "    def __init__(self, init_pos, init_vel):\n",
    "        self.pos = init_pos # Fixed to space not Earth!\n",
    "        self.vel = init_vel # Fixed to space not Earth!\n",
    "        self.trajectory = [PositionSpherical(init_pos.r, init_pos.θ, init_pos.φ,time=0)]\n",
    "        print(f'Initial position: {init_pos}')\n",
    "        \n",
    "    def update_pos(self):\n",
    "        self.pos.r += self.vel.r * Δt\n",
    "        self.pos.θ += self.vel.θ * Δt\n",
    "        self.pos.φ += self.vel.φ * Δt\n",
    "        \n",
    "    def fire(self):\n",
    "        num_iterations = 0\n",
    "        max_iterations = 10000\n",
    "        while self.pos.r > earth_radius_meters and num_iterations < max_iterations:\n",
    "            # Gather current radial acceleration\n",
    "            a = self.a()\n",
    "            \n",
    "            # Update position given current velocity\n",
    "            self.pos.r += self.vel.r * Δt\n",
    "            self.pos.θ += self.vel.θ * Δt\n",
    "            self.pos.φ += self.vel.φ * Δt\n",
    "            \n",
    "            # Update velocity given acceleration\n",
    "            self.vel.r += a * Δt\n",
    "            \n",
    "            # Update time\n",
    "            self.pos.time += Δt\n",
    "            \n",
    "            # Update trajectory\n",
    "            self.trajectory.append(PositionSpherical(self.pos.r, self.pos.θ, self.pos.φ, time=self.pos.time))            \n",
    "            # TODO: render\n",
    "            \n",
    "            num_iterations += 1\n",
    "        print(f'Number of iterations {num_iterations}, total time passed is {self.pos.time} seconds')\n",
    "        print(f'Position {self.pos}')\n",
    "                    \n",
    "    def a(self):\n",
    "        '''\n",
    "        Returns the acceleration of the bullet (in m/s^2) in the radial direction\n",
    "        '''\n",
    "        return -G*earth_mass_kg/self.pos.r**2\n",
    "    \n",
    "    def earth_fixed_pos(self):\n",
    "        '''\n",
    "        Returns an earth-fixed position\n",
    "        '''\n",
    "        return self.pos.earth_fixed_pos()\n",
    "    \n",
    "    def trajectory_as_np(self):\n",
    "        '''\n",
    "        Returns trajectory from fixed earth not from fixed space!\n",
    "        '''\n",
    "        trajectory = [pos.earth_fixed_pos().cartesian() for pos in self.trajectory]\n",
    "        x = np.array([pos.x for pos in trajectory])\n",
    "        y = np.array([pos.y for pos in trajectory])\n",
    "        z = np.array([pos.z for pos in trajectory])\n",
    "        t = np.array([pos.time for pos in self.trajectory])\n",
    "        return (x, y, z, t)\n",
    "    \n",
    "bullet = Bullet(bullet_pos, bullet_vel)\n",
    "\n",
    "# The path the bullet takes p(t) = integral(v(t))\n",
    "# v(t) = integral(a(t)) + v_initial\n",
    "# a(t) = a(h(t))\n",
    "\n",
    "# F = m_bullet * a_bullet\n",
    "# G*  (m_bullet * earth_mass_kg)/r^2 = m_bullet * a_bullet\n",
    "# a_bullet(h) = (G*earth_mass_kg)/(R + h)^2\n",
    "# a_bullet(0) = (G*earth_mass_kg)/R^2 = g\n",
    "#x = sympy.Symbol('x')\n",
    "#sympy.solve()"
   ]
  },
  {
   "cell_type": "code",
   "execution_count": 2,
   "id": "a65b586e-4f41-48a3-b0ce-e43e412d95e4",
   "metadata": {
    "tags": []
   },
   "outputs": [
    {
     "name": "stdout",
     "output_type": "stream",
     "text": [
      "Number of iterations 868, total time passed is 86.79999999999934 seconds\n",
      "Position (6371357.0642234925, 1.5647408867514887, 0.0063122741280462235)\n",
      "6371357.0642234925\n"
     ]
    }
   ],
   "source": [
    "bullet.fire()\n",
    "print(bullet.pos.r)"
   ]
  },
  {
   "cell_type": "code",
   "execution_count": 10,
   "id": "6d613235-7abc-43d2-afbe-1e3052ff8669",
   "metadata": {
    "tags": []
   },
   "outputs": [
    {
     "data": {
      "application/vnd.jupyter.widget-view+json": {
       "model_id": "bdfc8e2d0d6b45b3a8ec55988042cb47",
       "version_major": 2,
       "version_minor": 0
      },
      "text/plain": [
       "interactive(children=(Play(value=0, description='t'), Output()), _dom_classes=('widget-interact',))"
      ]
     },
     "metadata": {},
     "output_type": "display_data"
    }
   ],
   "source": [
    "(x, y, z, t) = bullet.trajectory_as_np()\n",
    "def sphere (t):\n",
    "    fig = plt.figure()\n",
    "    ax = fig.add_subplot(111, projection='3d')\n",
    "\n",
    "    # Apply the texture to the sphere and plot it\n",
    "    ax.plot_surface(sphere_x, sphere_y, sphere_z, facecolors=img, linewidth=0, antialiased=False, alpha=1, zorder=1, rcount=200, ccount=200)\n",
    "    #ax.plot_trisurf(sphere_x, sphere_y, sphere_z)\n",
    "    \n",
    "    # Plot trajectory\n",
    "    ax.plot3D(x, y, z, 'red', zorder=100)\n",
    "    \n",
    "    ax.set_box_aspect([1, 1, 1])  # Set equal aspect ratio\n",
    "    ax.set_xlabel('$X$')\n",
    "    ax.set_ylabel('$Y$')\n",
    "    ax.set_zlabel('$Z$')\n",
    "    plt.show()\n",
    "widgets.interact(sphere , t= widgets.Play(min=0,max =100));"
   ]
  },
  {
   "cell_type": "code",
   "execution_count": 4,
   "id": "76480ae1-5e57-4f58-83c5-e18a4a645135",
   "metadata": {
    "tags": []
   },
   "outputs": [
    {
     "data": {
      "text/plain": [
       "<__main__.PositionSpherical at 0x124b9b580>"
      ]
     },
     "execution_count": 4,
     "metadata": {},
     "output_type": "execute_result"
    }
   ],
   "source": [
    "bullet.earth_fixed_pos()"
   ]
  },
  {
   "cell_type": "code",
   "execution_count": 5,
   "id": "f706e015-b28a-4326-bb36-173da1622ce5",
   "metadata": {
    "tags": []
   },
   "outputs": [
    {
     "data": {
      "text/plain": [
       "<__main__.PositionSpherical at 0x112cf2710>"
      ]
     },
     "execution_count": 5,
     "metadata": {},
     "output_type": "execute_result"
    }
   ],
   "source": [
    "bullet.pos"
   ]
  },
  {
   "cell_type": "code",
   "execution_count": 6,
   "id": "c2d5a889-fd52-4e25-8dbc-9663e30d4bba",
   "metadata": {
    "tags": []
   },
   "outputs": [
    {
     "data": {
      "text/plain": [
       "86.79999999999934"
      ]
     },
     "execution_count": 6,
     "metadata": {},
     "output_type": "execute_result"
    }
   ],
   "source": [
    "bullet.pos.time"
   ]
  },
  {
   "cell_type": "code",
   "execution_count": 7,
   "id": "0403d52f-73ba-4025-9b53-4d63fceab0f6",
   "metadata": {
    "tags": []
   },
   "outputs": [
    {
     "data": {
      "text/plain": [
       "'Latitude 0.34695115758178474, Longitude 6.4605016967227685e-15'"
      ]
     },
     "execution_count": 7,
     "metadata": {},
     "output_type": "execute_result"
    }
   ],
   "source": [
    "bullet.pos.earth_fixed_pos().gcs()"
   ]
  },
  {
   "cell_type": "code",
   "execution_count": 8,
   "id": "1eb34f52-f326-4961-8ecb-6f3cfe407b94",
   "metadata": {
    "tags": []
   },
   "outputs": [
    {
     "data": {
      "text/plain": [
       "'google.com/maps/search/0.34695115758178474,+6.4605016967227685e-15'"
      ]
     },
     "execution_count": 8,
     "metadata": {},
     "output_type": "execute_result"
    }
   ],
   "source": [
    "bullet.pos.earth_fixed_pos().google_maps_pin()"
   ]
  },
  {
   "cell_type": "code",
   "execution_count": 9,
   "id": "22cb809a-e9d1-486b-a476-e0dd084a1fe9",
   "metadata": {
    "tags": []
   },
   "outputs": [
    {
     "data": {
      "text/plain": [
       "'Latitude 0.34695115758178474, Longitude 0.3616666666666704'"
      ]
     },
     "execution_count": 9,
     "metadata": {},
     "output_type": "execute_result"
    }
   ],
   "source": [
    "bullet.pos.gcs()"
   ]
  },
  {
   "cell_type": "code",
   "execution_count": null,
   "id": "e4b35127-792e-4fbc-abac-37ed629a15ee",
   "metadata": {},
   "outputs": [],
   "source": []
  }
 ],
 "metadata": {
  "kernelspec": {
   "display_name": "Python 3 (ipykernel)",
   "language": "python",
   "name": "python3"
  },
  "language_info": {
   "codemirror_mode": {
    "name": "ipython",
    "version": 3
   },
   "file_extension": ".py",
   "mimetype": "text/x-python",
   "name": "python",
   "nbconvert_exporter": "python",
   "pygments_lexer": "ipython3",
   "version": "3.10.9"
  }
 },
 "nbformat": 4,
 "nbformat_minor": 5
}
